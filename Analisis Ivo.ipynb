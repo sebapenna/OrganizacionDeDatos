{
 "cells": [
  {
   "cell_type": "code",
   "execution_count": 1,
   "metadata": {},
   "outputs": [],
   "source": [
    "# Importamos librerías de análisis de datos\n",
    "%matplotlib inline\n",
    "import numpy as np\n",
    "import pandas as pd\n",
    "import seaborn as sns\n",
    "import matplotlib.pyplot as plt\n",
    "pd.set_option('display.max_columns', 100)\n",
    "pd.set_option('display.float_format', '{:.2f}'.format)\n",
    "# pd.set_option('mode.chained_assignment', None) # Deshabilita SettingWithCopyWarning. Ojo."
   ]
  },
  {
   "cell_type": "code",
   "execution_count": 2,
   "metadata": {},
   "outputs": [],
   "source": [
    "# Cargamos el dataframe\n",
    "df = pd.read_csv('data/train.csv', index_col='id', parse_dates=['fecha'])"
   ]
  },
  {
   "cell_type": "code",
   "execution_count": 3,
   "metadata": {},
   "outputs": [
    {
     "data": {
      "text/plain": [
       "(240000, 22)"
      ]
     },
     "execution_count": 3,
     "metadata": {},
     "output_type": "execute_result"
    }
   ],
   "source": [
    "df.shape"
   ]
  },
  {
   "cell_type": "code",
   "execution_count": 4,
   "metadata": {
    "scrolled": true
   },
   "outputs": [
    {
     "data": {
      "text/html": [
       "<div>\n",
       "<style scoped>\n",
       "    .dataframe tbody tr th:only-of-type {\n",
       "        vertical-align: middle;\n",
       "    }\n",
       "\n",
       "    .dataframe tbody tr th {\n",
       "        vertical-align: top;\n",
       "    }\n",
       "\n",
       "    .dataframe thead th {\n",
       "        text-align: right;\n",
       "    }\n",
       "</style>\n",
       "<table border=\"1\" class=\"dataframe\">\n",
       "  <thead>\n",
       "    <tr style=\"text-align: right;\">\n",
       "      <th></th>\n",
       "      <th>titulo</th>\n",
       "      <th>descripcion</th>\n",
       "      <th>tipodepropiedad</th>\n",
       "      <th>direccion</th>\n",
       "      <th>ciudad</th>\n",
       "      <th>provincia</th>\n",
       "      <th>antiguedad</th>\n",
       "      <th>habitaciones</th>\n",
       "      <th>garages</th>\n",
       "      <th>banos</th>\n",
       "      <th>metroscubiertos</th>\n",
       "      <th>metrostotales</th>\n",
       "      <th>idzona</th>\n",
       "      <th>lat</th>\n",
       "      <th>lng</th>\n",
       "      <th>fecha</th>\n",
       "      <th>gimnasio</th>\n",
       "      <th>usosmultiples</th>\n",
       "      <th>piscina</th>\n",
       "      <th>escuelascercanas</th>\n",
       "      <th>centroscomercialescercanos</th>\n",
       "      <th>precio</th>\n",
       "    </tr>\n",
       "    <tr>\n",
       "      <th>id</th>\n",
       "      <th></th>\n",
       "      <th></th>\n",
       "      <th></th>\n",
       "      <th></th>\n",
       "      <th></th>\n",
       "      <th></th>\n",
       "      <th></th>\n",
       "      <th></th>\n",
       "      <th></th>\n",
       "      <th></th>\n",
       "      <th></th>\n",
       "      <th></th>\n",
       "      <th></th>\n",
       "      <th></th>\n",
       "      <th></th>\n",
       "      <th></th>\n",
       "      <th></th>\n",
       "      <th></th>\n",
       "      <th></th>\n",
       "      <th></th>\n",
       "      <th></th>\n",
       "      <th></th>\n",
       "    </tr>\n",
       "  </thead>\n",
       "  <tbody>\n",
       "    <tr>\n",
       "      <th>254099</th>\n",
       "      <td>depto. tipo a-402</td>\n",
       "      <td>depto. interior de 80.15m2, consta de sala com...</td>\n",
       "      <td>Apartamento</td>\n",
       "      <td>Avenida Division del Norte 2005</td>\n",
       "      <td>Benito Juárez</td>\n",
       "      <td>Distrito Federal</td>\n",
       "      <td>nan</td>\n",
       "      <td>2.00</td>\n",
       "      <td>1.00</td>\n",
       "      <td>2.00</td>\n",
       "      <td>80.00</td>\n",
       "      <td>80.00</td>\n",
       "      <td>23533.00</td>\n",
       "      <td>nan</td>\n",
       "      <td>nan</td>\n",
       "      <td>2015-08-23</td>\n",
       "      <td>0.00</td>\n",
       "      <td>0.00</td>\n",
       "      <td>0.00</td>\n",
       "      <td>0.00</td>\n",
       "      <td>0.00</td>\n",
       "      <td>2273000.00</td>\n",
       "    </tr>\n",
       "    <tr>\n",
       "      <th>53461</th>\n",
       "      <td>condominio horizontal en venta</td>\n",
       "      <td>&lt;p&gt;entre sonora y guerrero, atr&amp;aacute;s del h...</td>\n",
       "      <td>Casa en condominio</td>\n",
       "      <td>AV. MEXICO</td>\n",
       "      <td>La Magdalena Contreras</td>\n",
       "      <td>Distrito Federal</td>\n",
       "      <td>10.00</td>\n",
       "      <td>3.00</td>\n",
       "      <td>2.00</td>\n",
       "      <td>2.00</td>\n",
       "      <td>268.00</td>\n",
       "      <td>180.00</td>\n",
       "      <td>24514.00</td>\n",
       "      <td>19.31</td>\n",
       "      <td>-99.23</td>\n",
       "      <td>2013-06-28</td>\n",
       "      <td>0.00</td>\n",
       "      <td>0.00</td>\n",
       "      <td>0.00</td>\n",
       "      <td>1.00</td>\n",
       "      <td>1.00</td>\n",
       "      <td>3600000.00</td>\n",
       "    </tr>\n",
       "  </tbody>\n",
       "</table>\n",
       "</div>"
      ],
      "text/plain": [
       "                                titulo  \\\n",
       "id                                       \n",
       "254099               depto. tipo a-402   \n",
       "53461   condominio horizontal en venta   \n",
       "\n",
       "                                              descripcion     tipodepropiedad  \\\n",
       "id                                                                              \n",
       "254099  depto. interior de 80.15m2, consta de sala com...         Apartamento   \n",
       "53461   <p>entre sonora y guerrero, atr&aacute;s del h...  Casa en condominio   \n",
       "\n",
       "                              direccion                  ciudad  \\\n",
       "id                                                                \n",
       "254099  Avenida Division del Norte 2005           Benito Juárez   \n",
       "53461                        AV. MEXICO  La Magdalena Contreras   \n",
       "\n",
       "               provincia  antiguedad  habitaciones  garages  banos  \\\n",
       "id                                                                   \n",
       "254099  Distrito Federal         nan          2.00     1.00   2.00   \n",
       "53461   Distrito Federal       10.00          3.00     2.00   2.00   \n",
       "\n",
       "        metroscubiertos  metrostotales   idzona   lat    lng      fecha  \\\n",
       "id                                                                        \n",
       "254099            80.00          80.00 23533.00   nan    nan 2015-08-23   \n",
       "53461            268.00         180.00 24514.00 19.31 -99.23 2013-06-28   \n",
       "\n",
       "        gimnasio  usosmultiples  piscina  escuelascercanas  \\\n",
       "id                                                           \n",
       "254099      0.00           0.00     0.00              0.00   \n",
       "53461       0.00           0.00     0.00              1.00   \n",
       "\n",
       "        centroscomercialescercanos     precio  \n",
       "id                                             \n",
       "254099                        0.00 2273000.00  \n",
       "53461                         1.00 3600000.00  "
      ]
     },
     "execution_count": 4,
     "metadata": {},
     "output_type": "execute_result"
    }
   ],
   "source": [
    "df.head(2)"
   ]
  },
  {
   "cell_type": "code",
   "execution_count": 5,
   "metadata": {},
   "outputs": [
    {
     "data": {
      "text/plain": [
       "titulo                          5387\n",
       "descripcion                     1619\n",
       "tipodepropiedad                   46\n",
       "direccion                      53072\n",
       "ciudad                           372\n",
       "provincia                        155\n",
       "antiguedad                     43555\n",
       "habitaciones                   22471\n",
       "garages                        37765\n",
       "banos                          26221\n",
       "metroscubiertos                17400\n",
       "metrostotales                  51467\n",
       "idzona                         28621\n",
       "lat                           123488\n",
       "lng                           123488\n",
       "fecha                              0\n",
       "gimnasio                           0\n",
       "usosmultiples                      0\n",
       "piscina                            0\n",
       "escuelascercanas                   0\n",
       "centroscomercialescercanos         0\n",
       "precio                             0\n",
       "dtype: int64"
      ]
     },
     "metadata": {},
     "output_type": "display_data"
    }
   ],
   "source": [
    "# Veo la cantidad de elementos nulos de cada columna\n",
    "display(df.isnull().sum())"
   ]
  },
  {
   "cell_type": "markdown",
   "metadata": {},
   "source": [
    "# Optimizando los tipos de datos\n",
    "### Integers\n",
    "<span style=\"font-weight:600;\">Lleno los elementos nulos de tipo tipo float con el valor -1, para que sea un valor valido para la conversion a int, pero al no coincidir con los valores reales de las columnas luego los paso a nan</span>"
   ]
  },
  {
   "cell_type": "code",
   "execution_count": 6,
   "metadata": {},
   "outputs": [],
   "source": [
    "df[['antiguedad','habitaciones','garages','banos','idzona']] = df[['antiguedad','habitaciones','garages','banos','idzona']].fillna(-1)"
   ]
  },
  {
   "cell_type": "markdown",
   "metadata": {},
   "source": [
    "<span style=\"font-weight:600;\">Cambio el tipo de todas las columnas que son float y que en verdad se representan en int</span>"
   ]
  },
  {
   "cell_type": "code",
   "execution_count": 7,
   "metadata": {},
   "outputs": [],
   "source": [
    "df[['antiguedad', 'habitaciones', 'garages', 'banos', 'idzona', 'precio']] = pd.DataFrame(df, columns=['antiguedad', 'habitaciones', 'garages', 'banos', 'idzona', 'precio'], dtype=int)"
   ]
  },
  {
   "cell_type": "markdown",
   "metadata": {},
   "source": [
    "<span style=\"font-weight:600;\">Paso del tipo de dato int64 que se coloco en el paso anterior , y lo downcasteo a el minimo posible para cada columna (int32, int16, etc) , y recupero los datos nulos</span>"
   ]
  },
  {
   "cell_type": "code",
   "execution_count": 8,
   "metadata": {},
   "outputs": [],
   "source": [
    "df[['antiguedad', 'habitaciones', 'garages', 'banos', 'idzona', 'precio']] = df[['antiguedad', 'habitaciones', 'garages', 'banos', 'idzona', 'precio']].apply(pd.to_numeric, downcast='integer').replace(-1, np.nan)"
   ]
  },
  {
   "cell_type": "markdown",
   "metadata": {},
   "source": [
    "### Floats\n",
    "<span style=\"font-weight:600;\">Lleno los elementos nulos de tipo tipo float con el valor -1, para que sea un valor valido, pero que sea facil de identificar como valor vacio, al no coincidir con los valores reales de las columnas luego los paso a nan</span>"
   ]
  },
  {
   "cell_type": "code",
   "execution_count": 9,
   "metadata": {},
   "outputs": [],
   "source": [
    "df[['metroscubiertos','metrostotales']] = df[['metroscubiertos','metrostotales']].fillna(-1)"
   ]
  },
  {
   "cell_type": "markdown",
   "metadata": {},
   "source": [
    "<span style=\"font-weight:600;\">Downcasteo a el minimo posible para cada columna (float32, float16, etc) y recupero los nulos</span>"
   ]
  },
  {
   "cell_type": "code",
   "execution_count": 10,
   "metadata": {},
   "outputs": [],
   "source": [
    "df[['metroscubiertos', 'metrostotales']] = df[['metroscubiertos', 'metrostotales']].apply(pd.to_numeric,downcast='float').replace(-1, np.nan)"
   ]
  },
  {
   "cell_type": "markdown",
   "metadata": {},
   "source": [
    "### Booleans y Category\n",
    "<span style=\"font-weight:600;\">Cambio el tipo de dato de todas las columnas booleanas a int 1/0 y la columna que se representa como category</span>"
   ]
  },
  {
   "cell_type": "code",
   "execution_count": 11,
   "metadata": {},
   "outputs": [],
   "source": [
    "df[['gimnasio', 'usosmultiples', 'piscina', 'escuelascercanas', 'centroscomercialescercanos']] = pd.DataFrame(df, columns=['gimnasio', 'usosmultiples', 'piscina', 'escuelascercanas', 'centroscomercialescercanos'], dtype=int).apply(pd.to_numeric, downcast='integer')\n",
    "df = df.astype({'tipodepropiedad': 'category'})"
   ]
  },
  {
   "cell_type": "markdown",
   "metadata": {},
   "source": [
    "## Resultado\n",
    "### Tipo de datos final para cada columna"
   ]
  },
  {
   "cell_type": "code",
   "execution_count": 12,
   "metadata": {
    "scrolled": true
   },
   "outputs": [
    {
     "data": {
      "text/plain": [
       "titulo                                object\n",
       "descripcion                           object\n",
       "tipodepropiedad                     category\n",
       "direccion                             object\n",
       "ciudad                                object\n",
       "provincia                             object\n",
       "antiguedad                           float64\n",
       "habitaciones                         float64\n",
       "garages                              float64\n",
       "banos                                float64\n",
       "metroscubiertos                      float32\n",
       "metrostotales                        float32\n",
       "idzona                               float64\n",
       "lat                                  float64\n",
       "lng                                  float64\n",
       "fecha                         datetime64[ns]\n",
       "gimnasio                                int8\n",
       "usosmultiples                           int8\n",
       "piscina                                 int8\n",
       "escuelascercanas                        int8\n",
       "centroscomercialescercanos              int8\n",
       "precio                                 int32\n",
       "dtype: object"
      ]
     },
     "execution_count": 12,
     "metadata": {},
     "output_type": "execute_result"
    }
   ],
   "source": [
    "df.dtypes"
   ]
  },
  {
   "cell_type": "markdown",
   "metadata": {},
   "source": [
    "### Cantidad de nulos por columna"
   ]
  },
  {
   "cell_type": "code",
   "execution_count": 13,
   "metadata": {},
   "outputs": [
    {
     "data": {
      "text/plain": [
       "titulo                          5387\n",
       "descripcion                     1619\n",
       "tipodepropiedad                   46\n",
       "direccion                      53072\n",
       "ciudad                           372\n",
       "provincia                        155\n",
       "antiguedad                     43555\n",
       "habitaciones                   22471\n",
       "garages                        37765\n",
       "banos                          26221\n",
       "metroscubiertos                17400\n",
       "metrostotales                  51467\n",
       "idzona                         28621\n",
       "lat                           123488\n",
       "lng                           123488\n",
       "fecha                              0\n",
       "gimnasio                           0\n",
       "usosmultiples                      0\n",
       "piscina                            0\n",
       "escuelascercanas                   0\n",
       "centroscomercialescercanos         0\n",
       "precio                             0\n",
       "dtype: int64"
      ]
     },
     "metadata": {},
     "output_type": "display_data"
    }
   ],
   "source": [
    "display(df.isnull().sum())"
   ]
  },
  {
   "cell_type": "markdown",
   "metadata": {},
   "source": [
    "# Analisis de datos"
   ]
  },
  {
   "cell_type": "markdown",
   "metadata": {},
   "source": [
    "### Ordeno las filas por Fecha , id y precio"
   ]
  },
  {
   "cell_type": "code",
   "execution_count": 14,
   "metadata": {
    "scrolled": false
   },
   "outputs": [],
   "source": [
    "df = df.sort_values(by=[\"fecha\",\"id\",\"precio\"])"
   ]
  },
  {
   "cell_type": "markdown",
   "metadata": {},
   "source": [
    "### Cantidad de publicaciones de venta por año"
   ]
  },
  {
   "cell_type": "code",
   "execution_count": 15,
   "metadata": {},
   "outputs": [
    {
     "data": {
      "text/html": [
       "<div>\n",
       "<style scoped>\n",
       "    .dataframe tbody tr th:only-of-type {\n",
       "        vertical-align: middle;\n",
       "    }\n",
       "\n",
       "    .dataframe tbody tr th {\n",
       "        vertical-align: top;\n",
       "    }\n",
       "\n",
       "    .dataframe thead th {\n",
       "        text-align: right;\n",
       "    }\n",
       "</style>\n",
       "<table border=\"1\" class=\"dataframe\">\n",
       "  <thead>\n",
       "    <tr style=\"text-align: right;\">\n",
       "      <th></th>\n",
       "      <th>count</th>\n",
       "    </tr>\n",
       "    <tr>\n",
       "      <th>fecha</th>\n",
       "      <th></th>\n",
       "    </tr>\n",
       "  </thead>\n",
       "  <tbody>\n",
       "    <tr>\n",
       "      <th>2012</th>\n",
       "      <td>23534</td>\n",
       "    </tr>\n",
       "    <tr>\n",
       "      <th>2013</th>\n",
       "      <td>30386</td>\n",
       "    </tr>\n",
       "    <tr>\n",
       "      <th>2014</th>\n",
       "      <td>40572</td>\n",
       "    </tr>\n",
       "    <tr>\n",
       "      <th>2015</th>\n",
       "      <td>51470</td>\n",
       "    </tr>\n",
       "    <tr>\n",
       "      <th>2016</th>\n",
       "      <td>94038</td>\n",
       "    </tr>\n",
       "  </tbody>\n",
       "</table>\n",
       "</div>"
      ],
      "text/plain": [
       "       count\n",
       "fecha       \n",
       "2012   23534\n",
       "2013   30386\n",
       "2014   40572\n",
       "2015   51470\n",
       "2016   94038"
      ]
     },
     "execution_count": 15,
     "metadata": {},
     "output_type": "execute_result"
    }
   ],
   "source": [
    "publicacionesXanios = pd.DataFrame(df[['fecha']], columns=['fecha'])\n",
    "publicacionesXanios = publicacionesXanios[\"fecha\"].groupby(publicacionesXanios['fecha'].dt.year).agg({'count'})\n",
    "publicacionesXanios"
   ]
  },
  {
   "cell_type": "markdown",
   "metadata": {},
   "source": [
    "## Llenando valores de metros"
   ]
  },
  {
   "cell_type": "markdown",
   "metadata": {},
   "source": [
    "#### Busco las filas que tengan \"metrostotales\" null, pero con valores validos en \"metroscubiertos\" para ver si hay posibilidad de llenar los null con el valor de esa segunda columna\n",
    "\n",
    "#### Verifico lo mismo para cuando \"metroscubiertos\" es null, pero con valores validos en \"metrostotales\".\n"
   ]
  },
  {
   "cell_type": "code",
   "execution_count": 16,
   "metadata": {},
   "outputs": [
    {
     "name": "stdout",
     "output_type": "stream",
     "text": [
      "________________________________________________________________________________\n",
      "Cantidad de \"metrostotales\" nulos 51467\n",
      "Cantidad de \"metrostotales\" nullos, con valores en \"metroscubiertos\" : 51467\n",
      "________________________________________________________________________________\n",
      "Cantidad de \"metroscubiertos\" nulos 17400\n",
      "Cantidad de \"metroscubiertos\" nullos, con valores en \"metrostotales\" : 17400\n",
      "________________________________________________________________________________\n"
     ]
    }
   ],
   "source": [
    "print('________________________________________________________________________________')\n",
    "print('Cantidad de \"metrostotales\" nulos ' + str(df['metrostotales'].isnull().sum()))\n",
    "nullosLimpiables = df[ df['metrostotales'].isnull() & df['metroscubiertos'].notnull()]\n",
    "coincidencias = nullosLimpiables.shape[0]\n",
    "print('Cantidad de \"metrostotales\" nullos, con valores en \"metroscubiertos\" : ' + str(coincidencias))\n",
    "print('________________________________________________________________________________')\n",
    "print('Cantidad de \"metroscubiertos\" nulos ' + str(df['metroscubiertos'].isnull().sum()))\n",
    "nullosLimpiables = df[ df['metroscubiertos'].isnull() & df['metrostotales'].notnull()]\n",
    "coincidencias = nullosLimpiables.shape[0]\n",
    "print('Cantidad de \"metroscubiertos\" nullos, con valores en \"metrostotales\" : ' + str(coincidencias))\n",
    "print('________________________________________________________________________________')"
   ]
  },
  {
   "cell_type": "markdown",
   "metadata": {},
   "source": [
    "#### Dado que tengo posiblidades de poder llenar los campos nullos con valores que son posiblemente verdaderos, procedo a hacer un analisis mas en detalle para encontrar los diferentes casos que pueden darse."
   ]
  },
  {
   "cell_type": "markdown",
   "metadata": {},
   "source": [
    "### Cantidad de nulos al principio del proceso:"
   ]
  },
  {
   "cell_type": "code",
   "execution_count": 17,
   "metadata": {},
   "outputs": [
    {
     "data": {
      "text/plain": [
       "metrostotales      51467\n",
       "metroscubiertos    17400\n",
       "dtype: int64"
      ]
     },
     "metadata": {},
     "output_type": "display_data"
    }
   ],
   "source": [
    "metros = df.copy()\n",
    "metros['totalesNull'] = np.where(metros['metrostotales'].isnull(), True, False)\n",
    "metros['cubiertosNull'] = np.where(metros['metroscubiertos'].isnull(), True, False)\n",
    "display(metros[['metrostotales','metroscubiertos']].isnull().sum())"
   ]
  },
  {
   "cell_type": "markdown",
   "metadata": {},
   "source": [
    "#### Caso metros totales en NULL:\n",
    "##### Sin importar el tipo de propiedad, si el campo de metros totales se encontraba en null pero el campo de metros cubietos tiene datos, se llenara los nulls con los estos.\n",
    "#### Caso metros cubiertos en NULL:\n",
    "##### Para los tipos de propiedad como terrenos , huertas etc, en los cuales es mas posible que el valor de \"metroscubiertos\" sea 0 incluso si hay datos en \"metrostotales\", procedo a ver la correlacion de esos casos, pare ver si: \n",
    "#### *) llenar con 0 la columna de \"metroscubiertos\"\n",
    "#### *) o si la hipotesis es falsa y la correlacion es alta, llenaria los null con el valor de la columna \"metrostotales\""
   ]
  },
  {
   "cell_type": "markdown",
   "metadata": {},
   "source": [
    "#### Caso \"metrostotales\" en NULL\n",
    "##### remplazo los null"
   ]
  },
  {
   "cell_type": "code",
   "execution_count": 18,
   "metadata": {},
   "outputs": [
    {
     "name": "stdout",
     "output_type": "stream",
     "text": [
      "Cantidad de \"metrostotales\" nulos 0\n"
     ]
    }
   ],
   "source": [
    "metros['metrostotales'] = np.where(metros['metrostotales'].isnull() & metros['metroscubiertos'].notnull(), metros['metroscubiertos'], metros['metrostotales'])\n",
    "print('Cantidad de \"metrostotales\" nulos ' + str(metros['metrostotales'].isnull().sum()))"
   ]
  },
  {
   "cell_type": "markdown",
   "metadata": {},
   "source": [
    "#### Caso \"metroscubiertos\" en NULL"
   ]
  },
  {
   "cell_type": "markdown",
   "metadata": {},
   "source": [
    "##### Veo la correlacion entre los \"metros totales\" y \"metros cubiertos\" en general"
   ]
  },
  {
   "cell_type": "code",
   "execution_count": 19,
   "metadata": {},
   "outputs": [
    {
     "data": {
      "text/plain": [
       "0.8173939329855918"
      ]
     },
     "execution_count": 19,
     "metadata": {},
     "output_type": "execute_result"
    }
   ],
   "source": [
    "metros['metrostotales'].corr(metros['metroscubiertos'])"
   ]
  },
  {
   "cell_type": "markdown",
   "metadata": {},
   "source": [
    "#### Correlacion entre \"metroscubiertos\" y  \"metrostotales\" en las propiedades que podrian llegar a tener 0 en \"metroscubiertos\" pero valores en \"metrostotales\".\n",
    "#### Como propiedades de estilo Terreno, Huerta, u Otros"
   ]
  },
  {
   "cell_type": "code",
   "execution_count": 20,
   "metadata": {},
   "outputs": [],
   "source": [
    "propiedadesExteriores = metros.loc[(metros['tipodepropiedad'] == 'Terreno') | \n",
    "              (metros['tipodepropiedad'] == 'Terreno comercial') |\n",
    "              (metros['tipodepropiedad'] == 'Rancho') |\n",
    "              (metros['tipodepropiedad'] == 'Otros') |\n",
    "              (metros['tipodepropiedad'] == 'Terreno industrial') |\n",
    "              (metros['tipodepropiedad'] == 'Huerta') |\n",
    "              (metros['tipodepropiedad'] == 'Garage'), ['metroscubiertos','metrostotales', 'tipodepropiedad']]\n",
    "propiedadesExteriores = propiedadesExteriores.dropna()\n",
    "pe = propiedadesExteriores"
   ]
  },
  {
   "cell_type": "code",
   "execution_count": 21,
   "metadata": {},
   "outputs": [
    {
     "name": "stdout",
     "output_type": "stream",
     "text": [
      "Cantidad de \"metroscubiertos\" de valor 0: 0\n"
     ]
    }
   ],
   "source": [
    "print('Cantidad de \"metroscubiertos\" de valor 0: ' \n",
    "      + str(len(pe[pe['metroscubiertos'] == 0])))"
   ]
  },
  {
   "cell_type": "code",
   "execution_count": 22,
   "metadata": {},
   "outputs": [
    {
     "name": "stdout",
     "output_type": "stream",
     "text": [
      "Terreno: 0.7890031546288713\n",
      "Terreno comercial: 0.6992153368735061\n",
      "Otros: 0.816746665143214\n",
      "Terreno industrial: 0.5940355360229522\n",
      "Huerta: 0.9999999999999999\n",
      "Garage: nan\n"
     ]
    },
    {
     "name": "stderr",
     "output_type": "stream",
     "text": [
      "C:\\Users\\ivo\\Anaconda3\\lib\\site-packages\\numpy\\lib\\function_base.py:2522: RuntimeWarning: Degrees of freedom <= 0 for slice\n",
      "  c = cov(x, y, rowvar)\n",
      "C:\\Users\\ivo\\Anaconda3\\lib\\site-packages\\numpy\\lib\\function_base.py:2451: RuntimeWarning: divide by zero encountered in true_divide\n",
      "  c *= np.true_divide(1, fact)\n"
     ]
    }
   ],
   "source": [
    "print(\"Terreno: \" + str(pe[pe['tipodepropiedad'] == 'Terreno']['metrostotales'].corr(pe[pe['tipodepropiedad'] == 'Terreno']['metroscubiertos'])))\n",
    "print(\"Terreno comercial: \" + str(pe[pe['tipodepropiedad'] == 'Terreno comercial']['metrostotales'].corr(pe[pe['tipodepropiedad'] == 'Terreno comercial']['metroscubiertos'])))\n",
    "print(\"Otros: \" + str(pe[pe['tipodepropiedad'] == 'Otros']['metrostotales'].corr(pe[pe['tipodepropiedad'] == 'Otros']['metroscubiertos'])))\n",
    "print(\"Terreno industrial: \" + str(pe[pe['tipodepropiedad'] == 'Terreno industrial']['metrostotales'].corr(pe[pe['tipodepropiedad'] == 'Terreno industrial']['metroscubiertos'])))\n",
    "print(\"Huerta: \" + str(pe[pe['tipodepropiedad'] == 'Huerta']['metrostotales'].corr(pe[pe['tipodepropiedad'] == 'Huerta']['metroscubiertos'])))\n",
    "print(\"Garage: \" + str(pe[pe['tipodepropiedad'] == 'Garage']['metrostotales'].corr(pe[pe['tipodepropiedad'] == 'Garage']['metroscubiertos'])))"
   ]
  },
  {
   "cell_type": "markdown",
   "metadata": {},
   "source": [
    "#### Se puede ver que hay una gran correlacion entre los metroscubiertos y los metrostotales incluso en este tipo de propiedades, con expepcion de los \"Terreno industrial\" y \"Terreno comercial que son relativamente bajos en comparacion.\n",
    "#### La correlacion de Garage da nan, pero como se puede ver mas abajo, le corresponderia un 1."
   ]
  },
  {
   "cell_type": "code",
   "execution_count": 23,
   "metadata": {},
   "outputs": [
    {
     "data": {
      "text/html": [
       "<div>\n",
       "<style scoped>\n",
       "    .dataframe tbody tr th:only-of-type {\n",
       "        vertical-align: middle;\n",
       "    }\n",
       "\n",
       "    .dataframe tbody tr th {\n",
       "        vertical-align: top;\n",
       "    }\n",
       "\n",
       "    .dataframe thead th {\n",
       "        text-align: right;\n",
       "    }\n",
       "</style>\n",
       "<table border=\"1\" class=\"dataframe\">\n",
       "  <thead>\n",
       "    <tr style=\"text-align: right;\">\n",
       "      <th></th>\n",
       "      <th>metroscubiertos</th>\n",
       "      <th>metrostotales</th>\n",
       "      <th>tipodepropiedad</th>\n",
       "    </tr>\n",
       "    <tr>\n",
       "      <th>id</th>\n",
       "      <th></th>\n",
       "      <th></th>\n",
       "      <th></th>\n",
       "    </tr>\n",
       "  </thead>\n",
       "  <tbody>\n",
       "    <tr>\n",
       "      <th>245563</th>\n",
       "      <td>40.00</td>\n",
       "      <td>40.00</td>\n",
       "      <td>Garage</td>\n",
       "    </tr>\n",
       "  </tbody>\n",
       "</table>\n",
       "</div>"
      ],
      "text/plain": [
       "        metroscubiertos  metrostotales tipodepropiedad\n",
       "id                                                    \n",
       "245563            40.00          40.00          Garage"
      ]
     },
     "execution_count": 23,
     "metadata": {},
     "output_type": "execute_result"
    }
   ],
   "source": [
    "pe[pe['tipodepropiedad'] == 'Garage']"
   ]
  },
  {
   "cell_type": "markdown",
   "metadata": {},
   "source": [
    "#### Vista la gran correlacion en la mayoria de los casos entre \"metrostotales\" y \"metroscubiertos\" con un par de exepciones, procedo a llenar los nullos con el valor de la columna que si tiene datos. "
   ]
  },
  {
   "cell_type": "code",
   "execution_count": 24,
   "metadata": {},
   "outputs": [
    {
     "name": "stdout",
     "output_type": "stream",
     "text": [
      "Cantidad de \"metroscubiertos\" nulos 0\n"
     ]
    }
   ],
   "source": [
    "metros['metroscubiertos'] = np.where(metros['metroscubiertos'].isnull() & metros['metrostotales'].notnull(), metros['metrostotales'], metros['metroscubiertos'])\n",
    "print('Cantidad de \"metroscubiertos\" nulos ' + str(metros['metroscubiertos'].isnull().sum()))"
   ]
  },
  {
   "cell_type": "markdown",
   "metadata": {},
   "source": [
    "### Cantidad de nulos al final del proceso:"
   ]
  },
  {
   "cell_type": "code",
   "execution_count": 25,
   "metadata": {},
   "outputs": [
    {
     "data": {
      "text/plain": [
       "metrostotales      0\n",
       "metroscubiertos    0\n",
       "dtype: int64"
      ]
     },
     "metadata": {},
     "output_type": "display_data"
    }
   ],
   "source": [
    "display(metros[['metrostotales','metroscubiertos']].isnull().sum())"
   ]
  },
  {
   "cell_type": "markdown",
   "metadata": {},
   "source": [
    "## Analisis por region"
   ]
  },
  {
   "cell_type": "code",
   "execution_count": 26,
   "metadata": {},
   "outputs": [],
   "source": [
    "Noroeste = ['Baja California Norte', 'Baja California Sur','Chihuahua', 'Durango', 'Sinaloa', 'Sonora']\n",
    "Noreste = ['Coahuila','Nuevo León', 'Tamaulipas']\n",
    "Oeste = ['Colima', 'Jalisco', 'Michoacán', 'Nayarit']\n",
    "Este = ['Hidalgo', 'Puebla', 'Tlaxcala', 'Veracruz']\n",
    "Centronorte = ['Aguascalientes', 'Guanajuato', 'Querétaro', 'San luis Potosí', 'Zacatecas']\n",
    "Centrosur = ['Edo. de México', 'Distrito Federal', 'Morelos']\n",
    "Suroeste = ['Chiapas', 'Guerrero', 'Oaxaca']\n",
    "Sureste = ['Campeche', 'Quintana Roo', 'Tabasco', 'Yucatán']"
   ]
  },
  {
   "cell_type": "code",
   "execution_count": 27,
   "metadata": {},
   "outputs": [],
   "source": [
    "def region(provincia):\n",
    "    if(provincia in Noroeste):\n",
    "        return 'Noroeste'\n",
    "    if(provincia in Noreste):\n",
    "        return 'Noreste'\n",
    "    if(provincia in Oeste):\n",
    "        return 'Oeste'\n",
    "    if(provincia in Este):\n",
    "        return 'Este'\n",
    "    if(provincia in Centronorte):\n",
    "        return 'Centronorte'\n",
    "    if(provincia in Centrosur):\n",
    "        return 'Centrosur'\n",
    "    if(provincia in Suroeste):\n",
    "        return 'Suroeste'\n",
    "    return 'Sureste'"
   ]
  },
  {
   "cell_type": "code",
   "execution_count": 28,
   "metadata": {},
   "outputs": [],
   "source": [
    "df['region'] = df['provincia'].apply(region)\n",
    "df = df.astype({'region': 'category'})"
   ]
  },
  {
   "cell_type": "code",
   "execution_count": 29,
   "metadata": {},
   "outputs": [
    {
     "data": {
      "text/html": [
       "<div>\n",
       "<style scoped>\n",
       "    .dataframe tbody tr th:only-of-type {\n",
       "        vertical-align: middle;\n",
       "    }\n",
       "\n",
       "    .dataframe tbody tr th {\n",
       "        vertical-align: top;\n",
       "    }\n",
       "\n",
       "    .dataframe thead th {\n",
       "        text-align: right;\n",
       "    }\n",
       "</style>\n",
       "<table border=\"1\" class=\"dataframe\">\n",
       "  <thead>\n",
       "    <tr style=\"text-align: right;\">\n",
       "      <th></th>\n",
       "      <th>precio</th>\n",
       "    </tr>\n",
       "    <tr>\n",
       "      <th>region</th>\n",
       "      <th></th>\n",
       "    </tr>\n",
       "  </thead>\n",
       "  <tbody>\n",
       "    <tr>\n",
       "      <th>Centrosur</th>\n",
       "      <td>3117324.11</td>\n",
       "    </tr>\n",
       "    <tr>\n",
       "      <th>Noreste</th>\n",
       "      <td>2385799.88</td>\n",
       "    </tr>\n",
       "    <tr>\n",
       "      <th>Suroeste</th>\n",
       "      <td>2239709.74</td>\n",
       "    </tr>\n",
       "    <tr>\n",
       "      <th>Oeste</th>\n",
       "      <td>2202275.16</td>\n",
       "    </tr>\n",
       "    <tr>\n",
       "      <th>Sureste</th>\n",
       "      <td>2180047.40</td>\n",
       "    </tr>\n",
       "    <tr>\n",
       "      <th>Centronorte</th>\n",
       "      <td>2014186.84</td>\n",
       "    </tr>\n",
       "    <tr>\n",
       "      <th>Este</th>\n",
       "      <td>1997588.50</td>\n",
       "    </tr>\n",
       "    <tr>\n",
       "      <th>Noroeste</th>\n",
       "      <td>1368329.94</td>\n",
       "    </tr>\n",
       "  </tbody>\n",
       "</table>\n",
       "</div>"
      ],
      "text/plain": [
       "                precio\n",
       "region                \n",
       "Centrosur   3117324.11\n",
       "Noreste     2385799.88\n",
       "Suroeste    2239709.74\n",
       "Oeste       2202275.16\n",
       "Sureste     2180047.40\n",
       "Centronorte 2014186.84\n",
       "Este        1997588.50\n",
       "Noroeste    1368329.94"
      ]
     },
     "execution_count": 29,
     "metadata": {},
     "output_type": "execute_result"
    }
   ],
   "source": [
    "df.groupby(['region']).agg({'precio':'mean'}).sort_values('precio', ascending = False)"
   ]
  },
  {
   "cell_type": "code",
   "execution_count": 30,
   "metadata": {},
   "outputs": [],
   "source": [
    "reg_cs = df[ df['region'] == 'Centrosur']['precio']\n",
    "reg_cn = df[ df['region'] == 'Centronorte']['precio']\n",
    "reg_o = df[ df['region'] == 'Oeste']['precio']\n",
    "reg_ne = df[ df['region'] == 'Noreste']['precio']\n",
    "reg_e = df[ df['region'] == 'Este']['precio']\n",
    "reg_se = df[ df['region'] == 'Sureste']['precio']\n",
    "reg_no = df[ df['region'] == 'Noroeste']['precio']\n",
    "reg_so = df[ df['region'] == 'Suroeste']['precio']\n",
    "\n",
    "data = {'Centrosur':reg_cs, 'Noreste':reg_ne, 'Suroeste':reg_so, 'Oeste':reg_o, 'Sureste':reg_se, 'Centronorte':reg_cn, 'Este':reg_e, 'Noroeste':reg_no}"
   ]
  },
  {
   "cell_type": "markdown",
   "metadata": {},
   "source": [
    "<div style=\"display: flex; flex-direction: row; align-items: center;\">\n",
    "    <img src=\"//upload.wikimedia.org/wikipedia/commons/thumb/b/b7/Regions_of_Mexico.svg/350px-Regions_of_Mexico.svg.png\" width=\"350\" height=\"235\" style=\"margin:0px;\"/>\n",
    "    <div style=\"margin-left:10px;\">\n",
    "        <span style=\"margin:0px; padding-bottom:1px; font-size:90%; display:block;\">\n",
    "            <span style=\"border: 1px solid; border-color: black; background-color:#EF9BA0; color:white\">\n",
    "                &nbsp;&nbsp;&nbsp;&nbsp;\n",
    "            </span>\n",
    "            &nbsp;\n",
    "            <span>Noroeste</span>\n",
    "        </span>\n",
    "        <span style=\"margin:0px; padding-bottom:1px; font-size:90%; display:block;\">\n",
    "            <span style=\"border: 1px solid; border-color: black; background-color:#FF9900; color:white\">\n",
    "                &nbsp;&nbsp;&nbsp;&nbsp;\n",
    "            </span>\n",
    "            &nbsp;\n",
    "            <span >Noreste</span>\n",
    "        </span>\n",
    "        <span style=\"margin:0px; padding-bottom:1px; font-size:90%; display:block;\">\n",
    "            <span style=\"border: 1px solid; border-color: black; background-color:#F5DD00; color:white\">\n",
    "                &nbsp;&nbsp;&nbsp;&nbsp;\n",
    "            </span>\n",
    "            &nbsp;\n",
    "            <span >Oeste</span>\n",
    "        </span>\n",
    "        <span style=\"margin:0px; padding-bottom:1px; font-size:90%; display:block;\">\n",
    "            <span style=\"border: 1px solid; border-color: black; background-color:#00AAD4; color:white\">\n",
    "                &nbsp;&nbsp;&nbsp;&nbsp;\n",
    "            </span>\n",
    "            &nbsp;\n",
    "            <span >Centronorte</span>\n",
    "        </span>\n",
    "        <span style=\"margin:0px; padding-bottom:1px; font-size:90%; display:block;\">\n",
    "            <span style=\"border: 1px solid; border-color: black; background-color:#D42AFF; color:white\">\n",
    "                &nbsp;&nbsp;&nbsp;&nbsp;\n",
    "            </span>\n",
    "            &nbsp;\n",
    "            <span >Este</span>\n",
    "        </span>\n",
    "        <span style=\"margin:0px; padding-bottom:1px; font-size:90%; display:block;\">\n",
    "            <span style=\"border: 1px solid; border-color: black; background-color:#FFFFFF; color:white\">\n",
    "                &nbsp;&nbsp;&nbsp;&nbsp;\n",
    "            </span>\n",
    "            &nbsp;\n",
    "            <span >Centrosur</span>\n",
    "        </span>\n",
    "        <span style=\"margin:0px; padding-bottom:1px; font-size:90%; display:block;\">\n",
    "            <span style=\"border: 1px solid; border-color: black; background-color:#CCFF00; color:white\">\n",
    "                &nbsp;&nbsp;&nbsp;&nbsp;\n",
    "            </span>\n",
    "            &nbsp;\n",
    "            <span >Sureste</span>\n",
    "        </span>\n",
    "        <span style=\"margin:0px; padding-bottom:1px; font-size:90%; display:block;\">\n",
    "            <span style=\"border: 1px solid; border-color: black; background-color:#8080FF; color:white\">\n",
    "                &nbsp;&nbsp;&nbsp;&nbsp;\n",
    "            </span>\n",
    "            &nbsp;\n",
    "            <span >Suroeste</span>\n",
    "        </span>\n",
    "    </div>\n",
    "</div>"
   ]
  },
  {
   "cell_type": "markdown",
   "metadata": {},
   "source": [
    "#### Distribucion de los precios (MEX) para cada region. Se puede observar q la region con mas cantidad de propiedades de valor alto corresponden a la region Centro Sur , en donde se encuentra la capital"
   ]
  },
  {
   "cell_type": "code",
   "execution_count": 31,
   "metadata": {},
   "outputs": [
    {
     "data": {
      "text/plain": [
       "<matplotlib.axes._subplots.AxesSubplot at 0x16e7afbc2b0>"
      ]
     },
     "execution_count": 31,
     "metadata": {},
     "output_type": "execute_result"
    },
    {
     "data": {
      "image/png": "[encoded data removed]",
      "text/plain": [
       "<Figure size 432x288 with 1 Axes>"
      ]
     },
     "metadata": {
      "needs_background": "light"
     },
     "output_type": "display_data"
    }
   ],
   "source": [
    "precioXregion = pd.DataFrame(data)\n",
    "sns.boxplot(x=\"variable\", y=\"value\", data=pd.melt(precioXregion), dodge=True)"
   ]
  },
  {
   "cell_type": "code",
   "execution_count": 32,
   "metadata": {},
   "outputs": [
    {
     "data": {
      "text/plain": [
       "<matplotlib.axes._subplots.AxesSubplot at 0x16e09b3f320>"
      ]
     },
     "execution_count": 32,
     "metadata": {},
     "output_type": "execute_result"
    },
    {
     "data": {
      "image/png": "[encoded data removed]",
      "text/plain": [
       "<Figure size 432x288 with 1 Axes>"
      ]
     },
     "metadata": {
      "needs_background": "light"
     },
     "output_type": "display_data"
    }
   ],
   "source": [
    "#cantidad de propiedades por region\n",
    "df['region'].value_counts().plot(kind='bar')"
   ]
  },
  {
   "cell_type": "markdown",
   "metadata": {},
   "source": [
    "#### La region del Centro-Sur a pesar de ser de las regiones con menos cantidad de regiones que la componen y la menor en cuento a territorio, es la region que tiene la mayor cantidad de publicaciones, siendo que el total de publicaciones del resto de Mexico es alrededor de 132 mil y la region del Centro-Sur es de 107 mil.\n",
    "#### Aparte de ser la region con mas publiciaciones, se destaca por tener la mayoria de las propiedades con los valores mas altos de Mexico, esto posiblemente se debe a que esta pequeña region abarca la capital de Mexico."
   ]
  },
  {
   "cell_type": "code",
   "execution_count": 33,
   "metadata": {},
   "outputs": [
    {
     "data": {
      "text/plain": [
       "Centrosur      107734\n",
       "Centronorte     30142\n",
       "Oeste           26069\n",
       "Noreste         21322\n",
       "Este            19543\n",
       "Noroeste        16579\n",
       "Sureste         14096\n",
       "Suroeste         4515\n",
       "Name: region, dtype: int64"
      ]
     },
     "execution_count": 33,
     "metadata": {},
     "output_type": "execute_result"
    }
   ],
   "source": [
    "df['region'].value_counts()"
   ]
  },
  {
   "cell_type": "code",
   "execution_count": null,
   "metadata": {},
   "outputs": [],
   "source": []
  }
 ],
 "metadata": {
  "kernelspec": {
   "display_name": "Python 3",
   "language": "python",
   "name": "python3"
  },
  "language_info": {
   "codemirror_mode": {
    "name": "ipython",
    "version": 3
   },
   "file_extension": ".py",
   "mimetype": "text/x-python",
   "name": "python",
   "nbconvert_exporter": "python",
   "pygments_lexer": "ipython3",
   "version": "3.7.3"
  }
 },
 "nbformat": 4,
 "nbformat_minor": 2
}
