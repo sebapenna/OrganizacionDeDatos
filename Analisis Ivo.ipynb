{
 "cells": [
  {
   "cell_type": "code",
   "execution_count": 47,
   "metadata": {},
   "outputs": [],
   "source": [
    "# Importamos librerías de análisis de datos\n",
    "%matplotlib inline\n",
    "import numpy as np\n",
    "import pandas as pd\n",
    "import seaborn as sns\n",
    "import matplotlib.pyplot as plt\n",
    "pd.set_option('display.max_columns', 100)\n",
    "pd.set_option('display.float_format', '{:.2f}'.format)\n",
    "# pd.set_option('mode.chained_assignment', None) # Deshabilita SettingWithCopyWarning. Ojo."
   ]
  },
  {
   "cell_type": "code",
   "execution_count": 48,
   "metadata": {},
   "outputs": [],
   "source": [
    "# Cargamos el dataframe\n",
    "df = pd.read_csv('../data/train.csv', index_col='id', parse_dates=['fecha'])"
   ]
  },
  {
   "cell_type": "code",
   "execution_count": 49,
   "metadata": {},
   "outputs": [
    {
     "data": {
      "text/plain": [
       "(240000, 22)"
      ]
     },
     "execution_count": 49,
     "metadata": {},
     "output_type": "execute_result"
    }
   ],
   "source": [
    "df.shape"
   ]
  },
  {
   "cell_type": "code",
   "execution_count": 50,
   "metadata": {
    "scrolled": true
   },
   "outputs": [
    {
     "data": {
      "text/html": [
       "<div>\n",
       "<style scoped>\n",
       "    .dataframe tbody tr th:only-of-type {\n",
       "        vertical-align: middle;\n",
       "    }\n",
       "\n",
       "    .dataframe tbody tr th {\n",
       "        vertical-align: top;\n",
       "    }\n",
       "\n",
       "    .dataframe thead th {\n",
       "        text-align: right;\n",
       "    }\n",
       "</style>\n",
       "<table border=\"1\" class=\"dataframe\">\n",
       "  <thead>\n",
       "    <tr style=\"text-align: right;\">\n",
       "      <th></th>\n",
       "      <th>titulo</th>\n",
       "      <th>descripcion</th>\n",
       "      <th>tipodepropiedad</th>\n",
       "      <th>direccion</th>\n",
       "      <th>ciudad</th>\n",
       "      <th>provincia</th>\n",
       "      <th>antiguedad</th>\n",
       "      <th>habitaciones</th>\n",
       "      <th>garages</th>\n",
       "      <th>banos</th>\n",
       "      <th>metroscubiertos</th>\n",
       "      <th>metrostotales</th>\n",
       "      <th>idzona</th>\n",
       "      <th>lat</th>\n",
       "      <th>lng</th>\n",
       "      <th>fecha</th>\n",
       "      <th>gimnasio</th>\n",
       "      <th>usosmultiples</th>\n",
       "      <th>piscina</th>\n",
       "      <th>escuelascercanas</th>\n",
       "      <th>centroscomercialescercanos</th>\n",
       "      <th>precio</th>\n",
       "    </tr>\n",
       "    <tr>\n",
       "      <th>id</th>\n",
       "      <th></th>\n",
       "      <th></th>\n",
       "      <th></th>\n",
       "      <th></th>\n",
       "      <th></th>\n",
       "      <th></th>\n",
       "      <th></th>\n",
       "      <th></th>\n",
       "      <th></th>\n",
       "      <th></th>\n",
       "      <th></th>\n",
       "      <th></th>\n",
       "      <th></th>\n",
       "      <th></th>\n",
       "      <th></th>\n",
       "      <th></th>\n",
       "      <th></th>\n",
       "      <th></th>\n",
       "      <th></th>\n",
       "      <th></th>\n",
       "      <th></th>\n",
       "      <th></th>\n",
       "    </tr>\n",
       "  </thead>\n",
       "  <tbody>\n",
       "    <tr>\n",
       "      <th>254099</th>\n",
       "      <td>depto. tipo a-402</td>\n",
       "      <td>depto. interior de 80.15m2, consta de sala com...</td>\n",
       "      <td>Apartamento</td>\n",
       "      <td>Avenida Division del Norte 2005</td>\n",
       "      <td>Benito Juárez</td>\n",
       "      <td>Distrito Federal</td>\n",
       "      <td>nan</td>\n",
       "      <td>2.00</td>\n",
       "      <td>1.00</td>\n",
       "      <td>2.00</td>\n",
       "      <td>80.00</td>\n",
       "      <td>80.00</td>\n",
       "      <td>23533.00</td>\n",
       "      <td>nan</td>\n",
       "      <td>nan</td>\n",
       "      <td>2015-08-23</td>\n",
       "      <td>0.00</td>\n",
       "      <td>0.00</td>\n",
       "      <td>0.00</td>\n",
       "      <td>0.00</td>\n",
       "      <td>0.00</td>\n",
       "      <td>2273000.00</td>\n",
       "    </tr>\n",
       "    <tr>\n",
       "      <th>53461</th>\n",
       "      <td>condominio horizontal en venta</td>\n",
       "      <td>&lt;p&gt;entre sonora y guerrero, atr&amp;aacute;s del h...</td>\n",
       "      <td>Casa en condominio</td>\n",
       "      <td>AV. MEXICO</td>\n",
       "      <td>La Magdalena Contreras</td>\n",
       "      <td>Distrito Federal</td>\n",
       "      <td>10.00</td>\n",
       "      <td>3.00</td>\n",
       "      <td>2.00</td>\n",
       "      <td>2.00</td>\n",
       "      <td>268.00</td>\n",
       "      <td>180.00</td>\n",
       "      <td>24514.00</td>\n",
       "      <td>19.31</td>\n",
       "      <td>-99.23</td>\n",
       "      <td>2013-06-28</td>\n",
       "      <td>0.00</td>\n",
       "      <td>0.00</td>\n",
       "      <td>0.00</td>\n",
       "      <td>1.00</td>\n",
       "      <td>1.00</td>\n",
       "      <td>3600000.00</td>\n",
       "    </tr>\n",
       "  </tbody>\n",
       "</table>\n",
       "</div>"
      ],
      "text/plain": [
       "                                titulo  \\\n",
       "id                                       \n",
       "254099               depto. tipo a-402   \n",
       "53461   condominio horizontal en venta   \n",
       "\n",
       "                                              descripcion     tipodepropiedad  \\\n",
       "id                                                                              \n",
       "254099  depto. interior de 80.15m2, consta de sala com...         Apartamento   \n",
       "53461   <p>entre sonora y guerrero, atr&aacute;s del h...  Casa en condominio   \n",
       "\n",
       "                              direccion                  ciudad  \\\n",
       "id                                                                \n",
       "254099  Avenida Division del Norte 2005           Benito Juárez   \n",
       "53461                        AV. MEXICO  La Magdalena Contreras   \n",
       "\n",
       "               provincia  antiguedad  habitaciones  garages  banos  \\\n",
       "id                                                                   \n",
       "254099  Distrito Federal         nan          2.00     1.00   2.00   \n",
       "53461   Distrito Federal       10.00          3.00     2.00   2.00   \n",
       "\n",
       "        metroscubiertos  metrostotales   idzona   lat    lng      fecha  \\\n",
       "id                                                                        \n",
       "254099            80.00          80.00 23533.00   nan    nan 2015-08-23   \n",
       "53461            268.00         180.00 24514.00 19.31 -99.23 2013-06-28   \n",
       "\n",
       "        gimnasio  usosmultiples  piscina  escuelascercanas  \\\n",
       "id                                                           \n",
       "254099      0.00           0.00     0.00              0.00   \n",
       "53461       0.00           0.00     0.00              1.00   \n",
       "\n",
       "        centroscomercialescercanos     precio  \n",
       "id                                             \n",
       "254099                        0.00 2273000.00  \n",
       "53461                         1.00 3600000.00  "
      ]
     },
     "execution_count": 50,
     "metadata": {},
     "output_type": "execute_result"
    }
   ],
   "source": [
    "df.head(2)"
   ]
  },
  {
   "cell_type": "code",
   "execution_count": 51,
   "metadata": {},
   "outputs": [
    {
     "data": {
      "text/plain": [
       "titulo                          5387\n",
       "descripcion                     1619\n",
       "tipodepropiedad                   46\n",
       "direccion                      53072\n",
       "ciudad                           372\n",
       "provincia                        155\n",
       "antiguedad                     43555\n",
       "habitaciones                   22471\n",
       "garages                        37765\n",
       "banos                          26221\n",
       "metroscubiertos                17400\n",
       "metrostotales                  51467\n",
       "idzona                         28621\n",
       "lat                           123488\n",
       "lng                           123488\n",
       "fecha                              0\n",
       "gimnasio                           0\n",
       "usosmultiples                      0\n",
       "piscina                            0\n",
       "escuelascercanas                   0\n",
       "centroscomercialescercanos         0\n",
       "precio                             0\n",
       "dtype: int64"
      ]
     },
     "metadata": {},
     "output_type": "display_data"
    }
   ],
   "source": [
    "# Veo la cantidad de elementos nulos de cada columna\n",
    "display(df.isnull().sum())"
   ]
  },
  {
   "cell_type": "markdown",
   "metadata": {},
   "source": [
    "# Optimizando los tipos de datos\n",
    "### Integers\n",
    "<span style=\"font-weight:600;\">Lleno los elementos nulos de tipo tipo float con el valor -1, para que sea un valor valido para la conversion a int, pero al no coincidir con los valores reales de las columnas luego los paso a nan</span>"
   ]
  },
  {
   "cell_type": "code",
   "execution_count": 52,
   "metadata": {},
   "outputs": [],
   "source": [
    "df[['antiguedad','habitaciones','garages','banos','idzona']] = df[['antiguedad','habitaciones','garages','banos','idzona']].fillna(-1)"
   ]
  },
  {
   "cell_type": "markdown",
   "metadata": {},
   "source": [
    "<span style=\"font-weight:600;\">Cambio el tipo de todas las columnas que son float y que en verdad se representan en int</span>"
   ]
  },
  {
   "cell_type": "code",
   "execution_count": 53,
   "metadata": {},
   "outputs": [],
   "source": [
    "df[['antiguedad', 'habitaciones', 'garages', 'banos', 'idzona', 'precio']] = pd.DataFrame(df, columns=['antiguedad', 'habitaciones', 'garages', 'banos', 'idzona', 'precio'], dtype=int)"
   ]
  },
  {
   "cell_type": "markdown",
   "metadata": {},
   "source": [
    "<span style=\"font-weight:600;\">Paso del tipo de dato int64 que se coloco en el paso anterior , y lo downcasteo a el minimo posible para cada columna (int32, int16, etc) , y recupero los datos nulos</span>"
   ]
  },
  {
   "cell_type": "code",
   "execution_count": 54,
   "metadata": {},
   "outputs": [],
   "source": [
    "df[['antiguedad', 'habitaciones', 'garages', 'banos', 'idzona', 'precio']] = df[['antiguedad', 'habitaciones', 'garages', 'banos', 'idzona', 'precio']].apply(pd.to_numeric, downcast='integer').replace(-1, np.nan)"
   ]
  },
  {
   "cell_type": "markdown",
   "metadata": {},
   "source": [
    "### Floats\n",
    "<span style=\"font-weight:600;\">Lleno los elementos nulos de tipo tipo float con el valor -1, para que sea un valor valido, pero que sea facil de identificar como valor vacio, al no coincidir con los valores reales de las columnas luego los paso a nan</span>"
   ]
  },
  {
   "cell_type": "code",
   "execution_count": 55,
   "metadata": {},
   "outputs": [],
   "source": [
    "df[['metroscubiertos','metrostotales']] = df[['metroscubiertos','metrostotales']].fillna(-1)"
   ]
  },
  {
   "cell_type": "markdown",
   "metadata": {},
   "source": [
    "<span style=\"font-weight:600;\">Downcasteo a el minimo posible para cada columna (float32, float16, etc) y recupero los nulos</span>"
   ]
  },
  {
   "cell_type": "code",
   "execution_count": 56,
   "metadata": {},
   "outputs": [],
   "source": [
    "df[['metroscubiertos', 'metrostotales']] = df[['metroscubiertos', 'metrostotales']].apply(pd.to_numeric,downcast='float').replace(-1, np.nan)"
   ]
  },
  {
   "cell_type": "markdown",
   "metadata": {},
   "source": [
    "### Booleans y Category\n",
    "<span style=\"font-weight:600;\">Cambio el tipo de dato de todas las columnas booleanas a int 1/0 y la columna que se representa como category</span>"
   ]
  },
  {
   "cell_type": "code",
   "execution_count": 57,
   "metadata": {},
   "outputs": [],
   "source": [
    "df[['gimnasio', 'usosmultiples', 'piscina', 'escuelascercanas', 'centroscomercialescercanos']] = pd.DataFrame(df, columns=['gimnasio', 'usosmultiples', 'piscina', 'escuelascercanas', 'centroscomercialescercanos'], dtype=int).apply(pd.to_numeric, downcast='integer')\n",
    "df = df.astype({'tipodepropiedad': 'category'})"
   ]
  },
  {
   "cell_type": "markdown",
   "metadata": {},
   "source": [
    "## Resultado\n",
    "### Tipo de datos final para cada columna"
   ]
  },
  {
   "cell_type": "code",
   "execution_count": 58,
   "metadata": {
    "scrolled": true
   },
   "outputs": [
    {
     "data": {
      "text/plain": [
       "titulo                                object\n",
       "descripcion                           object\n",
       "tipodepropiedad                     category\n",
       "direccion                             object\n",
       "ciudad                                object\n",
       "provincia                             object\n",
       "antiguedad                           float64\n",
       "habitaciones                         float64\n",
       "garages                              float64\n",
       "banos                                float64\n",
       "metroscubiertos                      float32\n",
       "metrostotales                        float32\n",
       "idzona                               float64\n",
       "lat                                  float64\n",
       "lng                                  float64\n",
       "fecha                         datetime64[ns]\n",
       "gimnasio                                int8\n",
       "usosmultiples                           int8\n",
       "piscina                                 int8\n",
       "escuelascercanas                        int8\n",
       "centroscomercialescercanos              int8\n",
       "precio                                 int32\n",
       "dtype: object"
      ]
     },
     "execution_count": 58,
     "metadata": {},
     "output_type": "execute_result"
    }
   ],
   "source": [
    "df.dtypes"
   ]
  },
  {
   "cell_type": "markdown",
   "metadata": {},
   "source": [
    "### Cantidad de nulos por columna"
   ]
  },
  {
   "cell_type": "code",
   "execution_count": 59,
   "metadata": {},
   "outputs": [
    {
     "data": {
      "text/plain": [
       "titulo                          5387\n",
       "descripcion                     1619\n",
       "tipodepropiedad                   46\n",
       "direccion                      53072\n",
       "ciudad                           372\n",
       "provincia                        155\n",
       "antiguedad                     43555\n",
       "habitaciones                   22471\n",
       "garages                        37765\n",
       "banos                          26221\n",
       "metroscubiertos                17400\n",
       "metrostotales                  51467\n",
       "idzona                         28621\n",
       "lat                           123488\n",
       "lng                           123488\n",
       "fecha                              0\n",
       "gimnasio                           0\n",
       "usosmultiples                      0\n",
       "piscina                            0\n",
       "escuelascercanas                   0\n",
       "centroscomercialescercanos         0\n",
       "precio                             0\n",
       "dtype: int64"
      ]
     },
     "metadata": {},
     "output_type": "display_data"
    }
   ],
   "source": [
    "display(df.isnull().sum())"
   ]
  },
  {
   "cell_type": "markdown",
   "metadata": {},
   "source": [
    "# Analisis de datos"
   ]
  },
  {
   "cell_type": "code",
   "execution_count": 60,
   "metadata": {},
   "outputs": [],
   "source": [
    "# Retiro las columnas de \"lat\" y \"lng\" dado que en el 50% de los datos estan vacios\n",
    "# df = df.drop(columns=['lat', 'lng'])"
   ]
  },
  {
   "cell_type": "markdown",
   "metadata": {},
   "source": [
    "### Ordeno las filas por Fecha , id y precio"
   ]
  },
  {
   "cell_type": "code",
   "execution_count": 122,
   "metadata": {
    "scrolled": false
   },
   "outputs": [],
   "source": [
    "df = df.sort_values(by=[\"fecha\",\"id\",\"precio\"])"
   ]
  },
  {
   "cell_type": "markdown",
   "metadata": {},
   "source": [
    "### Conteo de la cantidad de publicaciones de venta por año"
   ]
  },
  {
   "cell_type": "code",
   "execution_count": 135,
   "metadata": {},
   "outputs": [
    {
     "data": {
      "text/html": [
       "<div>\n",
       "<style scoped>\n",
       "    .dataframe tbody tr th:only-of-type {\n",
       "        vertical-align: middle;\n",
       "    }\n",
       "\n",
       "    .dataframe tbody tr th {\n",
       "        vertical-align: top;\n",
       "    }\n",
       "\n",
       "    .dataframe thead th {\n",
       "        text-align: right;\n",
       "    }\n",
       "</style>\n",
       "<table border=\"1\" class=\"dataframe\">\n",
       "  <thead>\n",
       "    <tr style=\"text-align: right;\">\n",
       "      <th></th>\n",
       "      <th>count</th>\n",
       "    </tr>\n",
       "    <tr>\n",
       "      <th>fecha</th>\n",
       "      <th></th>\n",
       "    </tr>\n",
       "  </thead>\n",
       "  <tbody>\n",
       "    <tr>\n",
       "      <th>2012</th>\n",
       "      <td>23534</td>\n",
       "    </tr>\n",
       "    <tr>\n",
       "      <th>2013</th>\n",
       "      <td>30386</td>\n",
       "    </tr>\n",
       "    <tr>\n",
       "      <th>2014</th>\n",
       "      <td>40572</td>\n",
       "    </tr>\n",
       "    <tr>\n",
       "      <th>2015</th>\n",
       "      <td>51470</td>\n",
       "    </tr>\n",
       "    <tr>\n",
       "      <th>2016</th>\n",
       "      <td>94038</td>\n",
       "    </tr>\n",
       "  </tbody>\n",
       "</table>\n",
       "</div>"
      ],
      "text/plain": [
       "       count\n",
       "fecha       \n",
       "2012   23534\n",
       "2013   30386\n",
       "2014   40572\n",
       "2015   51470\n",
       "2016   94038"
      ]
     },
     "execution_count": 135,
     "metadata": {},
     "output_type": "execute_result"
    }
   ],
   "source": [
    "anios = pd.DataFrame(df[['fecha']], columns=['fecha'])\n",
    "anios = anios[\"fecha\"].groupby(anios['fecha'].dt.year).agg({'count'})\n",
    "anios"
   ]
  },
  {
   "cell_type": "markdown",
   "metadata": {},
   "source": [
    "### Conteo de la cantidad de publicaciones de venta por provincias"
   ]
  },
  {
   "cell_type": "code",
   "execution_count": 136,
   "metadata": {},
   "outputs": [
    {
     "data": {
      "text/html": [
       "<div>\n",
       "<style scoped>\n",
       "    .dataframe tbody tr th:only-of-type {\n",
       "        vertical-align: middle;\n",
       "    }\n",
       "\n",
       "    .dataframe tbody tr th {\n",
       "        vertical-align: top;\n",
       "    }\n",
       "\n",
       "    .dataframe thead th {\n",
       "        text-align: right;\n",
       "    }\n",
       "</style>\n",
       "<table border=\"1\" class=\"dataframe\">\n",
       "  <thead>\n",
       "    <tr style=\"text-align: right;\">\n",
       "      <th></th>\n",
       "      <th>titulo</th>\n",
       "      <th>descripcion</th>\n",
       "      <th>tipodepropiedad</th>\n",
       "      <th>direccion</th>\n",
       "      <th>ciudad</th>\n",
       "      <th>provincia</th>\n",
       "      <th>antiguedad</th>\n",
       "      <th>habitaciones</th>\n",
       "      <th>garages</th>\n",
       "      <th>banos</th>\n",
       "      <th>metroscubiertos</th>\n",
       "      <th>metrostotales</th>\n",
       "      <th>idzona</th>\n",
       "      <th>lat</th>\n",
       "      <th>lng</th>\n",
       "      <th>fecha</th>\n",
       "      <th>gimnasio</th>\n",
       "      <th>usosmultiples</th>\n",
       "      <th>piscina</th>\n",
       "      <th>escuelascercanas</th>\n",
       "      <th>centroscomercialescercanos</th>\n",
       "      <th>precio</th>\n",
       "    </tr>\n",
       "    <tr>\n",
       "      <th>id</th>\n",
       "      <th></th>\n",
       "      <th></th>\n",
       "      <th></th>\n",
       "      <th></th>\n",
       "      <th></th>\n",
       "      <th></th>\n",
       "      <th></th>\n",
       "      <th></th>\n",
       "      <th></th>\n",
       "      <th></th>\n",
       "      <th></th>\n",
       "      <th></th>\n",
       "      <th></th>\n",
       "      <th></th>\n",
       "      <th></th>\n",
       "      <th></th>\n",
       "      <th></th>\n",
       "      <th></th>\n",
       "      <th></th>\n",
       "      <th></th>\n",
       "      <th></th>\n",
       "      <th></th>\n",
       "    </tr>\n",
       "  </thead>\n",
       "  <tbody>\n",
       "    <tr>\n",
       "      <th>814</th>\n",
       "      <td>casa en venta en bosques de la herradura</td>\n",
       "      <td>bonita casa en tres niveles construida para pe...</td>\n",
       "      <td>Casa</td>\n",
       "      <td>2Âª CERRADA DE BOSQUE DE JIQUILPAN</td>\n",
       "      <td>Huixquilucan</td>\n",
       "      <td>Edo. de México</td>\n",
       "      <td>23</td>\n",
       "      <td>4</td>\n",
       "      <td>2</td>\n",
       "      <td>-1</td>\n",
       "      <td>-1.00</td>\n",
       "      <td>400.00</td>\n",
       "      <td>55570</td>\n",
       "      <td>nan</td>\n",
       "      <td>nan</td>\n",
       "      <td>2012-01-01</td>\n",
       "      <td>False</td>\n",
       "      <td>False</td>\n",
       "      <td>False</td>\n",
       "      <td>True</td>\n",
       "      <td>False</td>\n",
       "      <td>4500000</td>\n",
       "    </tr>\n",
       "    <tr>\n",
       "      <th>4369</th>\n",
       "      <td>casa en venta en guadalajara</td>\n",
       "      <td>excelente casa en muy buena ubicacion............</td>\n",
       "      <td>Casa</td>\n",
       "      <td>Isla Española  2603</td>\n",
       "      <td>Guadalajara</td>\n",
       "      <td>Jalisco</td>\n",
       "      <td>40</td>\n",
       "      <td>7</td>\n",
       "      <td>1</td>\n",
       "      <td>2</td>\n",
       "      <td>119.00</td>\n",
       "      <td>119.00</td>\n",
       "      <td>-1</td>\n",
       "      <td>20.64</td>\n",
       "      <td>-103.38</td>\n",
       "      <td>2012-01-01</td>\n",
       "      <td>False</td>\n",
       "      <td>False</td>\n",
       "      <td>False</td>\n",
       "      <td>True</td>\n",
       "      <td>True</td>\n",
       "      <td>1900000</td>\n",
       "    </tr>\n",
       "    <tr>\n",
       "      <th>7128</th>\n",
       "      <td>casa en condominio en venta en fraccionamiento...</td>\n",
       "      <td>magnifica casa en condominio privado, con coch...</td>\n",
       "      <td>Casa en condominio</td>\n",
       "      <td>Carr Antiguo Aeropuerto</td>\n",
       "      <td>Querétaro</td>\n",
       "      <td>Querétaro</td>\n",
       "      <td>4</td>\n",
       "      <td>3</td>\n",
       "      <td>-1</td>\n",
       "      <td>2</td>\n",
       "      <td>430.00</td>\n",
       "      <td>-1.00</td>\n",
       "      <td>84007</td>\n",
       "      <td>nan</td>\n",
       "      <td>nan</td>\n",
       "      <td>2012-01-01</td>\n",
       "      <td>False</td>\n",
       "      <td>False</td>\n",
       "      <td>False</td>\n",
       "      <td>True</td>\n",
       "      <td>False</td>\n",
       "      <td>5500000</td>\n",
       "    </tr>\n",
       "    <tr>\n",
       "      <th>9702</th>\n",
       "      <td>casa en condominio en venta en san andrés cholula</td>\n",
       "      <td>hermosa y vanguardista casa por forjadores jun...</td>\n",
       "      <td>Casa en condominio</td>\n",
       "      <td>Melchor Ocampo 12</td>\n",
       "      <td>San Andrés Cholula</td>\n",
       "      <td>Puebla</td>\n",
       "      <td>0</td>\n",
       "      <td>3</td>\n",
       "      <td>2</td>\n",
       "      <td>2</td>\n",
       "      <td>102.00</td>\n",
       "      <td>84.00</td>\n",
       "      <td>-1</td>\n",
       "      <td>nan</td>\n",
       "      <td>nan</td>\n",
       "      <td>2012-01-01</td>\n",
       "      <td>False</td>\n",
       "      <td>False</td>\n",
       "      <td>False</td>\n",
       "      <td>False</td>\n",
       "      <td>False</td>\n",
       "      <td>900000</td>\n",
       "    </tr>\n",
       "    <tr>\n",
       "      <th>23940</th>\n",
       "      <td>departamento en venta en interlomas</td>\n",
       "      <td>hermoso departamento seminuevo,  moderno y muy...</td>\n",
       "      <td>Apartamento</td>\n",
       "      <td>Jesus del Monte</td>\n",
       "      <td>Huixquilucan</td>\n",
       "      <td>Edo. de México</td>\n",
       "      <td>5</td>\n",
       "      <td>3</td>\n",
       "      <td>-1</td>\n",
       "      <td>3</td>\n",
       "      <td>301.00</td>\n",
       "      <td>-1.00</td>\n",
       "      <td>55584</td>\n",
       "      <td>nan</td>\n",
       "      <td>nan</td>\n",
       "      <td>2012-01-01</td>\n",
       "      <td>False</td>\n",
       "      <td>False</td>\n",
       "      <td>True</td>\n",
       "      <td>True</td>\n",
       "      <td>False</td>\n",
       "      <td>5700000</td>\n",
       "    </tr>\n",
       "  </tbody>\n",
       "</table>\n",
       "</div>"
      ],
      "text/plain": [
       "                                                  titulo  \\\n",
       "id                                                         \n",
       "814             casa en venta en bosques de la herradura   \n",
       "4369                        casa en venta en guadalajara   \n",
       "7128   casa en condominio en venta en fraccionamiento...   \n",
       "9702   casa en condominio en venta en san andrés cholula   \n",
       "23940                departamento en venta en interlomas   \n",
       "\n",
       "                                             descripcion     tipodepropiedad  \\\n",
       "id                                                                             \n",
       "814    bonita casa en tres niveles construida para pe...                Casa   \n",
       "4369   excelente casa en muy buena ubicacion............                Casa   \n",
       "7128   magnifica casa en condominio privado, con coch...  Casa en condominio   \n",
       "9702   hermosa y vanguardista casa por forjadores jun...  Casa en condominio   \n",
       "23940  hermoso departamento seminuevo,  moderno y muy...         Apartamento   \n",
       "\n",
       "                                direccion              ciudad       provincia  \\\n",
       "id                                                                              \n",
       "814    2Âª CERRADA DE BOSQUE DE JIQUILPAN        Huixquilucan  Edo. de México   \n",
       "4369                  Isla Española  2603         Guadalajara         Jalisco   \n",
       "7128              Carr Antiguo Aeropuerto           Querétaro       Querétaro   \n",
       "9702                    Melchor Ocampo 12  San Andrés Cholula          Puebla   \n",
       "23940                     Jesus del Monte        Huixquilucan  Edo. de México   \n",
       "\n",
       "       antiguedad  habitaciones  garages  banos  metroscubiertos  \\\n",
       "id                                                                 \n",
       "814            23             4        2     -1            -1.00   \n",
       "4369           40             7        1      2           119.00   \n",
       "7128            4             3       -1      2           430.00   \n",
       "9702            0             3        2      2           102.00   \n",
       "23940           5             3       -1      3           301.00   \n",
       "\n",
       "       metrostotales  idzona   lat     lng      fecha  gimnasio  \\\n",
       "id                                                                \n",
       "814           400.00   55570   nan     nan 2012-01-01     False   \n",
       "4369          119.00      -1 20.64 -103.38 2012-01-01     False   \n",
       "7128           -1.00   84007   nan     nan 2012-01-01     False   \n",
       "9702           84.00      -1   nan     nan 2012-01-01     False   \n",
       "23940          -1.00   55584   nan     nan 2012-01-01     False   \n",
       "\n",
       "       usosmultiples  piscina  escuelascercanas  centroscomercialescercanos  \\\n",
       "id                                                                            \n",
       "814            False    False              True                       False   \n",
       "4369           False    False              True                        True   \n",
       "7128           False    False              True                       False   \n",
       "9702           False    False             False                       False   \n",
       "23940          False     True              True                       False   \n",
       "\n",
       "        precio  \n",
       "id              \n",
       "814    4500000  \n",
       "4369   1900000  \n",
       "7128   5500000  \n",
       "9702    900000  \n",
       "23940  5700000  "
      ]
     },
     "execution_count": 136,
     "metadata": {},
     "output_type": "execute_result"
    }
   ],
   "source": [
    "df.head()"
   ]
  },
  {
   "cell_type": "code",
   "execution_count": 140,
   "metadata": {},
   "outputs": [
    {
     "data": {
      "text/html": [
       "<div>\n",
       "<style scoped>\n",
       "    .dataframe tbody tr th:only-of-type {\n",
       "        vertical-align: middle;\n",
       "    }\n",
       "\n",
       "    .dataframe tbody tr th {\n",
       "        vertical-align: top;\n",
       "    }\n",
       "\n",
       "    .dataframe thead th {\n",
       "        text-align: right;\n",
       "    }\n",
       "</style>\n",
       "<table border=\"1\" class=\"dataframe\">\n",
       "  <thead>\n",
       "    <tr style=\"text-align: right;\">\n",
       "      <th></th>\n",
       "      <th>count</th>\n",
       "    </tr>\n",
       "    <tr>\n",
       "      <th>provincia</th>\n",
       "      <th></th>\n",
       "    </tr>\n",
       "  </thead>\n",
       "  <tbody>\n",
       "    <tr>\n",
       "      <th>Zacatecas</th>\n",
       "      <td>94</td>\n",
       "    </tr>\n",
       "    <tr>\n",
       "      <th>Campeche</th>\n",
       "      <td>263</td>\n",
       "    </tr>\n",
       "    <tr>\n",
       "      <th>Oaxaca</th>\n",
       "      <td>711</td>\n",
       "    </tr>\n",
       "    <tr>\n",
       "      <th>Tlaxcala</th>\n",
       "      <td>839</td>\n",
       "    </tr>\n",
       "    <tr>\n",
       "      <th>Tabasco</th>\n",
       "      <td>994</td>\n",
       "    </tr>\n",
       "  </tbody>\n",
       "</table>\n",
       "</div>"
      ],
      "text/plain": [
       "           count\n",
       "provincia       \n",
       "Zacatecas     94\n",
       "Campeche     263\n",
       "Oaxaca       711\n",
       "Tlaxcala     839\n",
       "Tabasco      994"
      ]
     },
     "execution_count": 140,
     "metadata": {},
     "output_type": "execute_result"
    }
   ],
   "source": [
    "provincias = pd.DataFrame(df, columns=['provincia'])\n",
    "provincias = provincias[\"provincia\"].groupby(provincias['provincia']).agg({'count'})\n",
    "provincias = provincias.sort_values(by=[\"count\"])\n",
    "provincias.head()"
   ]
  },
  {
   "cell_type": "code",
   "execution_count": null,
   "metadata": {},
   "outputs": [],
   "source": []
  }
 ],
 "metadata": {
  "kernelspec": {
   "display_name": "Python 3",
   "language": "python",
   "name": "python3"
  },
  "language_info": {
   "codemirror_mode": {
    "name": "ipython",
    "version": 3
   },
   "file_extension": ".py",
   "mimetype": "text/x-python",
   "name": "python",
   "nbconvert_exporter": "python",
   "pygments_lexer": "ipython3",
   "version": "3.7.3"
  }
 },
 "nbformat": 4,
 "nbformat_minor": 2
}
